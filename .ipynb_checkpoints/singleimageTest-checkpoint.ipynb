{
 "cells": [
  {
   "cell_type": "code",
   "execution_count": 1,
   "metadata": {},
   "outputs": [
    {
     "ename": "ModuleNotFoundError",
     "evalue": "No module named 'keras'",
     "output_type": "error",
     "traceback": [
      "\u001b[1;31m---------------------------------------------------------------------------\u001b[0m",
      "\u001b[1;31mModuleNotFoundError\u001b[0m                       Traceback (most recent call last)",
      "\u001b[1;32m<ipython-input-1-31918b6507ba>\u001b[0m in \u001b[0;36m<module>\u001b[1;34m\u001b[0m\n\u001b[0;32m      1\u001b[0m \u001b[1;32mimport\u001b[0m \u001b[0mos\u001b[0m\u001b[1;33m\u001b[0m\u001b[1;33m\u001b[0m\u001b[0m\n\u001b[0;32m      2\u001b[0m \u001b[1;32mimport\u001b[0m \u001b[0mjson\u001b[0m\u001b[1;33m\u001b[0m\u001b[1;33m\u001b[0m\u001b[0m\n\u001b[1;32m----> 3\u001b[1;33m \u001b[1;32mfrom\u001b[0m \u001b[0mkeras\u001b[0m\u001b[1;33m.\u001b[0m\u001b[0mmodels\u001b[0m \u001b[1;32mimport\u001b[0m \u001b[0mload_model\u001b[0m\u001b[1;33m\u001b[0m\u001b[1;33m\u001b[0m\u001b[0m\n\u001b[0m\u001b[0;32m      4\u001b[0m \u001b[1;32mimport\u001b[0m \u001b[0mpandas\u001b[0m \u001b[1;32mas\u001b[0m \u001b[0mpd\u001b[0m\u001b[1;33m\u001b[0m\u001b[1;33m\u001b[0m\u001b[0m\n\u001b[0;32m      5\u001b[0m \u001b[1;32mimport\u001b[0m \u001b[0mpickle\u001b[0m\u001b[1;33m\u001b[0m\u001b[1;33m\u001b[0m\u001b[0m\n",
      "\u001b[1;31mModuleNotFoundError\u001b[0m: No module named 'keras'"
     ]
    }
   ],
   "source": [
    "import os\n",
    "import json\n",
    "from keras.models import load_model\n",
    "import pandas as pd\n",
    "import pickle\n",
    "import numpy as np\n",
    "import shutil\n",
    "\n",
    "from keras.preprocessing import image                  \n",
    "from tqdm.notebook import tqdm\n",
    "from PIL import ImageFile                            \n"
   ]
  },
  {
   "cell_type": "code",
   "execution_count": 4,
   "metadata": {},
   "outputs": [],
   "source": [
    "BASE_MODEL_PATH = \"./model\"\n",
    "PICKLE_DIR = \"./pickle_files\"\n",
    "JSON_DIR = \"./json_files\""
   ]
  },
  {
   "cell_type": "code",
   "execution_count": 5,
   "metadata": {},
   "outputs": [],
   "source": [
    "BEST_MODEL = os.path.join(BASE_MODEL_PATH,\"distracted-17-1.00.hdf5\")\n",
    "model = load_model(BEST_MODEL)"
   ]
  },
  {
   "cell_type": "code",
   "execution_count": 6,
   "metadata": {},
   "outputs": [
    {
     "name": "stdout",
     "output_type": "stream",
     "text": [
      "{'c8': 0, 'c6': 1, 'c2': 2, 'c1': 3, 'c9': 4, 'c3': 5, 'c5': 6, 'c0': 7, 'c7': 8, 'c4': 9}\n"
     ]
    }
   ],
   "source": [
    "with open(os.path.join(PICKLE_DIR,\"labels_list.pkl\"),\"rb\") as handle:\n",
    "    labels_id = pickle.load(handle)\n",
    "print(labels_id)\n",
    "# labels_id = {'c1': 0, 'c6': 1, 'c5': 2, 'c8': 3, 'c3': 4, 'c0': 5, 'c7': 6, 'c2': 7, 'c4': 8, 'c9': 9}"
   ]
  },
  {
   "cell_type": "code",
   "execution_count": 46,
   "metadata": {},
   "outputs": [],
   "source": [
    "imageTest = \"imgtest.jpg\"\n",
    "img = image.load_img(imageTest, target_size=(128, 128))\n",
    "x = image.img_to_array(img)\n",
    "imageProcessed = np.expand_dims(x, axis=0)\n",
    "ImageFile.LOAD_TRUNCATED_IMAGES = True  \n",
    "test_tensors = imageProcessed.astype('float32')/255 - 0.5"
   ]
  },
  {
   "cell_type": "code",
   "execution_count": 47,
   "metadata": {},
   "outputs": [
    {
     "name": "stdout",
     "output_type": "stream",
     "text": [
      "1/1 [==============================] - 0s 52ms/step\n",
      "[6]\n"
     ]
    },
    {
     "data": {
      "text/plain": [
       "'OPERATING_RADIO'"
      ]
     },
     "execution_count": 47,
     "metadata": {},
     "output_type": "execute_result"
    }
   ],
   "source": [
    "ypred_test = model.predict(test_tensors,verbose=1)\n",
    "ypred_class = np.argmax(ypred_test,axis=1)\n",
    "print(ypred_class)\n",
    "\n",
    "\n",
    "\n",
    "id_labels = dict()\n",
    "for class_name,idx in labels_id.items():\n",
    "    id_labels[idx] = class_name\n",
    "    \n",
    "data_test = id_labels[ypred_class[0]]\n",
    "\n",
    "with open(os.path.join(JSON_DIR,'class_name_map.json')) as secret_input:\n",
    "    info = json.load(secret_input)\n",
    "\n",
    "info[data_test]"
   ]
  }
 ],
 "metadata": {
  "interpreter": {
   "hash": "ba2d91aa3a99c2d7c0c540baf064205985f7327501dfb9d41267433652d610e2"
  },
  "kernelspec": {
   "display_name": "Python 3",
   "language": "python",
   "name": "python3"
  },
  "language_info": {
   "codemirror_mode": {
    "name": "ipython",
    "version": 3
   },
   "file_extension": ".py",
   "mimetype": "text/x-python",
   "name": "python",
   "nbconvert_exporter": "python",
   "pygments_lexer": "ipython3",
   "version": "3.7.3"
  }
 },
 "nbformat": 4,
 "nbformat_minor": 2
}
